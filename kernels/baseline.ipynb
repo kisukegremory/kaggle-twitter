{
 "cells": [
  {
   "cell_type": "code",
   "execution_count": 67,
   "metadata": {},
   "outputs": [],
   "source": [
    "from __future__ import print_function, division\n",
    "import warnings\n",
    "import numpy as np\n",
    "import pandas as pd\n",
    "import matplotlib.pyplot as plt\n",
    "import seaborn as sns\n",
    "from datetime import datetime\n",
    "import re\n",
    "%matplotlib inline\n",
    "warnings.filterwarnings('ignore')"
   ]
  },
  {
   "cell_type": "code",
   "execution_count": 69,
   "metadata": {},
   "outputs": [],
   "source": [
    "train = pd.read_csv(\"../bases/train.csv\").set_index(\"id\")\n",
    "test = pd.read_csv(\"../bases/test.csv\").set_index(\"id\")\n",
    "df = train.append(test)"
   ]
  },
  {
   "cell_type": "markdown",
   "metadata": {},
   "source": [
    "# EDA"
   ]
  },
  {
   "cell_type": "markdown",
   "metadata": {
    "heading_collapsed": true
   },
   "source": [
    "## Locations\n",
    "has a high cardinality that we need to treat changing maybe to a word2vec, but we can't group automatically for now, so we won't use it for now"
   ]
  },
  {
   "cell_type": "code",
   "execution_count": 32,
   "metadata": {
    "hidden": true
   },
   "outputs": [
    {
     "data": {
      "image/png": "[encoded data removed]",
      "text/plain": [
       "<Figure size 1152x144 with 1 Axes>"
      ]
     },
     "metadata": {
      "needs_background": "light"
     },
     "output_type": "display_data"
    },
    {
     "data": {
      "image/png": "[encoded data removed]",
      "text/plain": [
       "<Figure size 1152x144 with 1 Axes>"
      ]
     },
     "metadata": {
      "needs_background": "light"
     },
     "output_type": "display_data"
    }
   ],
   "source": [
    "locations = df.location.value_counts()\n",
    "plt.figure(figsize=(16,2))\n",
    "plt.title(\"Locations distribution < 10\")\n",
    "sns.distplot(locations[locations < 10],kde=False)\n",
    "plt.show()\n",
    "\n",
    "plt.figure(figsize=(16,2))\n",
    "plt.title(\"Locations distribution >= 10\")\n",
    "sns.distplot(locations[locations >= 10],kde=False,bins=100)\n",
    "plt.show()"
   ]
  },
  {
   "cell_type": "markdown",
   "metadata": {
    "heading_collapsed": true
   },
   "source": [
    "## Keywords\n",
    "we see that the have some %20 that needs to be replaced by whitespace, bag of words can handle here"
   ]
  },
  {
   "cell_type": "code",
   "execution_count": 33,
   "metadata": {
    "hidden": true
   },
   "outputs": [
    {
     "data": {
      "image/png": "[encoded data removed]",
      "text/plain": [
       "<Figure size 1152x144 with 1 Axes>"
      ]
     },
     "metadata": {
      "needs_background": "light"
     },
     "output_type": "display_data"
    },
    {
     "data": {
      "text/plain": [
       "debris                   50\n",
       "quarantine               50\n",
       "emergency%20plan         50\n",
       "crashed                  50\n",
       "burning                  50\n",
       "                         ..\n",
       "forest%20fire            24\n",
       "threat                   16\n",
       "inundation               14\n",
       "radiation%20emergency    14\n",
       "epicentre                13\n",
       "Name: keyword, Length: 221, dtype: int64"
      ]
     },
     "execution_count": 33,
     "metadata": {},
     "output_type": "execute_result"
    }
   ],
   "source": [
    "keywords = df.keyword.value_counts()\n",
    "plt.figure(figsize=(16,2))\n",
    "plt.title(\"keywords distribution < 10\")\n",
    "sns.distplot(keywords,kde=False,bins=100)\n",
    "plt.show()\n",
    "keywords"
   ]
  },
  {
   "cell_type": "markdown",
   "metadata": {
    "heading_collapsed": true
   },
   "source": [
    "## Texts\n",
    "a first impression is that we have repited values for texts and they are from different languages\n",
    "- we do have racists words (?????)\n",
    "- repited dots (.... or ??????)\n",
    "- we do have links, should we replace then?\n",
    "- probably the quotes signals and the punctuation matters here"
   ]
  },
  {
   "cell_type": "code",
   "execution_count": 25,
   "metadata": {
    "hidden": true
   },
   "outputs": [
    {
     "data": {
      "text/plain": [
       "@Reuters people like you should be charged after the inevitable rioting for contributing to it with your lies                                    1\n",
       "lets see how good you are at soccer when you're bleeding out yo face                                                                             1\n",
       "The last time a high profile name was due to be signing for #nffc the City was rioting! Wesley Verhoek now a household name! #don'tpanic         1\n",
       "Dramatic Video Shows Plane Landing During Violent Storm http://t.co/rJ9gkJKJJn                                                                   1\n",
       "RT @calestous: Tanzania elephant population declined by 60% in five years census reveals http://t.co/8zy9N6fX9T http://t.co/ITZ9masBvZ           1\n",
       "#LonePine remembered around Australia as 'descendants' grow via @666canberra #Gallipoli #WW1\\nhttp://t.co/bwadX8ywqN http://t.co/UPFjy88KvI      1\n",
       "HereÛªs what caused a Metro train to derail in downtown D.C. http://t.co/ImTYgdS5qO                                                             1\n",
       "Heat wave gotta be over 9000 today                                                                                                               1\n",
       "Deals : http://t.co/ddhWoRI5w1 #37592 Temporary Fake Tooth Teeth Replacement Kit Emergency Dental Oral Care CosmeÛ_ http://t.co/ZCvfC500yY      1\n",
       "when things become terrible more than the great Ethiopian famine...                                                                              1\n",
       "@hebrooon u better learn derivative of formula seismic rather than thinking about things like that or you are a things like that? Haha           1\n",
       "Greece's tax revenues collapse as debt crisis continues: As talks continue over proposed âÂ86bn third bailout ... http://t.co/7w2WiEFjuq        1\n",
       "ILL ONLY DM HOTEL INFO BECAUSE PEOPLE ARE FLOODING MY NOTIFICATIONS ASKING ME FOR INFO                                                           1\n",
       "Governor allows parole for California school bus hijacker | Fresno Linked Local Network http://t.co/Sww0QsMxVM http://t.co/bcdP4gKokA            1\n",
       "Hm MT @Ebolatrends: Alabama Home Quarantined Over Possible Ebola Case http://t.co/ihVMtmZXne http://t.co/jLieMrSnnj                              1\n",
       "Plot\\nIn the futurea totalitarian government employs a force known as Firemen to seek out and destroy all literature https://t.co/DRfKarLz1d     1\n",
       "@UnivSFoundation For the people who died in Human Experiments by Unit 731 of Japanese military http://t.co/vVPLFQv58P http://t.co/Rwaph6dAUv     1\n",
       "I'm awful at painting.. why did I agree to do an A3 landscape in bloody oils of all paints ??                                                    1\n",
       "Man crushed to death by own car http://t.co/CrPO9DkW9v                                                                                           1\n",
       "Goulburn man Henry Van Bilsen missing: Emergency services are searching for a Goulburn man who disappeared from hisÛ_ http://t.co/z99pKJzTRp    1\n",
       "Name: text, dtype: int64"
      ]
     },
     "execution_count": 25,
     "metadata": {},
     "output_type": "execute_result"
    }
   ],
   "source": [
    "texts = df.text.value_counts()\n",
    "texts.sample(20)"
   ]
  },
  {
   "cell_type": "markdown",
   "metadata": {
    "heading_collapsed": true
   },
   "source": [
    "## Target\n",
    "we have more non desasters (57%) and the other features with non nulls are not statistiscally significant to be used"
   ]
  },
  {
   "cell_type": "code",
   "execution_count": 28,
   "metadata": {
    "hidden": true
   },
   "outputs": [
    {
     "data": {
      "text/plain": [
       "0.0    0.57034\n",
       "1.0    0.42966\n",
       "Name: target, dtype: float64"
      ]
     },
     "execution_count": 28,
     "metadata": {},
     "output_type": "execute_result"
    }
   ],
   "source": [
    "df.target.value_counts(normalize=True)"
   ]
  },
  {
   "cell_type": "code",
   "execution_count": 46,
   "metadata": {
    "hidden": true
   },
   "outputs": [
    {
     "data": {
      "image/png": "[encoded data removed]",
      "text/plain": [
       "<Figure size 1080x216 with 2 Axes>"
      ]
     },
     "metadata": {
      "needs_background": "light"
     },
     "output_type": "display_data"
    },
    {
     "data": {
      "image/png": "[encoded data removed]",
      "text/plain": [
       "<Figure size 1080x216 with 2 Axes>"
      ]
     },
     "metadata": {
      "needs_background": "light"
     },
     "output_type": "display_data"
    }
   ],
   "source": [
    "f, axs = plt.subplots(1,2,figsize=(15,3))\n",
    "\n",
    "axs[0].set_title(\"target proportion by keywords been null\")\n",
    "sns.barplot(df.keyword.isna(),df.target,ax=axs[0],palette=\"muted\")\n",
    "\n",
    "axs[1].set_title(\"target proportion by location been null\")\n",
    "sns.barplot(df.location.isna(),df.target,palette=\"muted\",ax=axs[1])\n",
    "plt.show()\n",
    "\n",
    "\n",
    "f, axs = plt.subplots(1,2,figsize=(15,3))\n",
    "\n",
    "axs[0].set_title(\"keywords been null (count)\")\n",
    "sns.countplot(df.keyword.isna(),ax=axs[0],palette=\"muted\")\n",
    "\n",
    "axs[1].set_title(\"location been null (count)\")\n",
    "sns.countplot(df.location.isna(),ax=axs[1],palette=\"muted\")\n",
    "plt.show()"
   ]
  },
  {
   "cell_type": "markdown",
   "metadata": {},
   "source": [
    "# Data treatment\n",
    "we will use just the text and the keywords in this model, location cannot be treated with bag of words, requires external datasets that we don't have for now\n",
    "\n",
    "> later notes:\n",
    "build a crawler to look in the google the position of those locations and use the coordenates and get their main language"
   ]
  },
  {
   "cell_type": "code",
   "execution_count": null,
   "metadata": {},
   "outputs": [],
   "source": [
    "from nltk.stem.snowball import SnowballStemmer # supports porguese,english...\n",
    "from sklearn.feature_extraction.text import CountVectorizer,TfidfVectorizer\n",
    "stemmer = SnowballStemmer('english')"
   ]
  },
  {
   "cell_type": "markdown",
   "metadata": {
    "heading_collapsed": true
   },
   "source": [
    "## Location"
   ]
  },
  {
   "cell_type": "code",
   "execution_count": 49,
   "metadata": {
    "hidden": true
   },
   "outputs": [],
   "source": [
    "df.drop(\"location\",axis=1,inplace=True)\n",
    "#df['location'].fillna(\"Unknown\",inplace=True)"
   ]
  },
  {
   "cell_type": "markdown",
   "metadata": {},
   "source": [
    "## keywords"
   ]
  },
  {
   "cell_type": "code",
   "execution_count": 70,
   "metadata": {},
   "outputs": [
    {
     "name": "stdout",
     "output_type": "stream",
     "text": [
      "unique keywords: 222\n",
      "(lower) unique keywords: 222\n",
      "(stemmer) unique keywords: 167\n"
     ]
    }
   ],
   "source": [
    "df['keyword'].fillna(\"Unknown\",inplace=True)\n",
    "\n",
    "print(f\"unique keywords: {df['keyword'].nunique()}\")\n",
    "      \n",
    "df['keyword'] = df['keyword'].str.lower()\n",
    "print(f\"(lower) unique keywords: {df['keyword'].nunique()}\")\n",
    "\n",
    "regex = re.compile(\"%20\")\n",
    "df['keyword'] = df['keyword'].apply(lambda x: regex.sub(\" \",str(x)))\n",
    "\n",
    "df['keyword'] = df['keyword'].apply(lambda x: \" \".join([stemmer.stem(word) for word in str(x).split(\" \")]) )\n",
    "print(f\"(stemmer) unique keywords: {df['keyword'].nunique()}\")\n",
    "      \n"
   ]
  },
  {
   "cell_type": "code",
   "execution_count": 75,
   "metadata": {},
   "outputs": [
    {
     "name": "stdout",
     "output_type": "stream",
     "text": [
      "(10876, 176)\n"
     ]
    }
   ],
   "source": [
    "vectorizer = CountVectorizer()\n",
    "keywords_bag = vectorizer.fit_transform(df['keyword'].values)\n",
    "print(keywords_bag.shape)"
   ]
  },
  {
   "cell_type": "markdown",
   "metadata": {},
   "source": [
    "## Text"
   ]
  },
  {
   "cell_type": "code",
   "execution_count": 78,
   "metadata": {},
   "outputs": [
    {
     "name": "stdout",
     "output_type": "stream",
     "text": [
      "unique text: 10678\n"
     ]
    }
   ],
   "source": [
    "col = 'text'\n",
    "\n",
    "df[col].fillna(\"\",inplace=True)\n",
    "print(f\"unique {col}: {df['text'].nunique()}\")\n",
    "      \n",
    "\n",
    "      \n",
    "df[col] = df[col].str.lower()\n",
    "print(f\"(lower) unique {col}: {df[col].nunique()}\")\n",
    "\n",
    "regex = re.compile(\"%20\")\n",
    "df[col] = df[col].apply(lambda x: regex.sub(\" \",str(x)))\n",
    "\n",
    "df[col] = df[col].apply(lambda x: \" \".join([stemmer.stem(word) for word in str(x).split(\" \")]) )\n",
    "print(f\"(stemmer) unique {col}: {df[col].nunique()}\")\n",
    "      \n"
   ]
  },
  {
   "cell_type": "code",
   "execution_count": 107,
   "metadata": {},
   "outputs": [
    {
     "name": "stdout",
     "output_type": "stream",
     "text": [
      "(10876, 469)\n"
     ]
    }
   ],
   "source": [
    "vectorizer = CountVectorizer(min_df=50)\n",
    "texts_bag = vectorizer.fit_transform(df[col].values)\n",
    "print(texts_bag.shape)"
   ]
  },
  {
   "cell_type": "markdown",
   "metadata": {},
   "source": [
    "## unify the bag of words"
   ]
  },
  {
   "cell_type": "code",
   "execution_count": 115,
   "metadata": {},
   "outputs": [],
   "source": [
    "from scipy.sparse import hstack\n",
    "data = hstack((texts_bag,keywords_bag))"
   ]
  },
  {
   "cell_type": "markdown",
   "metadata": {},
   "source": [
    "# Validation Schema\n",
    "--- \n",
    "for the first model we won't build to validate"
   ]
  },
  {
   "cell_type": "code",
   "execution_count": 136,
   "metadata": {},
   "outputs": [],
   "source": [
    "x_train,y_train = data.todense()[:train.shape[0]],train.target.values\n",
    "x_test = data.todense()[train.shape[0]:]"
   ]
  },
  {
   "cell_type": "code",
   "execution_count": 129,
   "metadata": {},
   "outputs": [],
   "source": [
    "from sklearn.model_selection import train_test_split"
   ]
  },
  {
   "cell_type": "markdown",
   "metadata": {},
   "source": [
    "# Modelling"
   ]
  },
  {
   "cell_type": "code",
   "execution_count": 138,
   "metadata": {},
   "outputs": [],
   "source": [
    "from sklearn.linear_model import LogisticRegression"
   ]
  },
  {
   "cell_type": "code",
   "execution_count": 140,
   "metadata": {},
   "outputs": [
    {
     "data": {
      "text/plain": [
       "LogisticRegression(C=1.0, class_weight=None, dual=False, fit_intercept=True,\n",
       "                   intercept_scaling=1, l1_ratio=None, max_iter=100,\n",
       "                   multi_class='warn', n_jobs=None, penalty='l2',\n",
       "                   random_state=None, solver='lbfgs', tol=0.0001, verbose=0,\n",
       "                   warm_start=False)"
      ]
     },
     "execution_count": 140,
     "metadata": {},
     "output_type": "execute_result"
    }
   ],
   "source": [
    "clf = LogisticRegression(solver='lbfgs')\n",
    "clf.fit(x_train,y_train)"
   ]
  },
  {
   "cell_type": "code",
   "execution_count": 141,
   "metadata": {},
   "outputs": [],
   "source": [
    "y_test = clf.predict(x_test)"
   ]
  },
  {
   "cell_type": "markdown",
   "metadata": {},
   "source": [
    "# Output"
   ]
  },
  {
   "cell_type": "code",
   "execution_count": 163,
   "metadata": {},
   "outputs": [
    {
     "name": "stdout",
     "output_type": "stream",
     "text": [
      "0.3711308611707018\n"
     ]
    }
   ],
   "source": [
    "output = pd.Series(index=test.index,data=y_test).to_frame('target').reset_index()\n",
    "print(output['target'].mean())\n"
   ]
  },
  {
   "cell_type": "code",
   "execution_count": 165,
   "metadata": {},
   "outputs": [],
   "source": [
    "file_name = f\"../output/{str(datetime.today().date())} LR.csv\"\n",
    "output.to_csv(file_name,index=False)"
   ]
  }
 ],
 "metadata": {
  "kernelspec": {
   "display_name": "Python 3",
   "language": "python",
   "name": "python3"
  },
  "language_info": {
   "codemirror_mode": {
    "name": "ipython",
    "version": 3
   },
   "file_extension": ".py",
   "mimetype": "text/x-python",
   "name": "python",
   "nbconvert_exporter": "python",
   "pygments_lexer": "ipython3",
   "version": "3.7.4"
  },
  "toc": {
   "base_numbering": 1,
   "nav_menu": {},
   "number_sections": true,
   "sideBar": true,
   "skip_h1_title": false,
   "title_cell": "Table of Contents",
   "title_sidebar": "Contents",
   "toc_cell": false,
   "toc_position": {},
   "toc_section_display": true,
   "toc_window_display": false
  }
 },
 "nbformat": 4,
 "nbformat_minor": 2
}
